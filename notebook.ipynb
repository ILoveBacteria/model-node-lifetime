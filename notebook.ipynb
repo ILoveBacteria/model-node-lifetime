{
 "cells": [
  {
   "cell_type": "markdown",
   "metadata": {},
   "source": [
    "# Probability Course Project\n",
    "\n",
    "Modeling the lifetime of nodes in a network using distributions and random reliability.\n",
    "\n",
    "## Import Libraries"
   ]
  },
  {
   "cell_type": "code",
   "execution_count": null,
   "metadata": {},
   "outputs": [],
   "source": [
    "import matplotlib.pyplot as plt\n",
    "import numpy as np\n",
    "import pandas as pd\n",
    "from scipy.special import gamma, factorial"
   ]
  },
  {
   "cell_type": "markdown",
   "metadata": {},
   "source": [
    "## Define Probability of Node Isolation"
   ]
  },
  {
   "cell_type": "markdown",
   "metadata": {},
   "source": [
    "### Pareto Distribution\n",
    "\n",
    "$\\pi_r(X)=\\frac{k !}{(k-r) !} \\cdot \\frac{\\Gamma\\left(k-r+1+\\frac{\\alpha}{\\alpha-1}\\right)}{\\Gamma\\left(k+1+\\frac{\\alpha}{\\alpha-1}\\right)}$"
   ]
  },
  {
   "cell_type": "code",
   "execution_count": null,
   "metadata": {},
   "outputs": [],
   "source": [
    "def pareto_isolation(k, r, alpha):\n",
    "    return factorial(k) / factorial(k - r) * gamma(k - r + 1 + (alpha / (alpha - 1))) / gamma(k + 1 + (alpha / (alpha - 1)))"
   ]
  },
  {
   "cell_type": "markdown",
   "metadata": {},
   "source": [
    "### Exponential Distribution\n",
    "\n",
    "$\\pi_r(X)=\\frac{k-r+1}{k+1}$"
   ]
  },
  {
   "cell_type": "code",
   "execution_count": null,
   "metadata": {},
   "outputs": [],
   "source": [
    "def exponential_isolation(k, r):\n",
    "    return (k - r + 1) / (k + 1)"
   ]
  },
  {
   "cell_type": "markdown",
   "metadata": {},
   "source": [
    "### Uniform distribution\n",
    "\n",
    "$\\pi_r(X)=\\frac{k !}{(k-r) !} \\cdot \\frac{\\Gamma\\left(k-r+1+\\frac{3}{2}\\right)}{\\Gamma\\left(k+\\frac{3}{2}\\right)}$"
   ]
  },
  {
   "cell_type": "code",
   "execution_count": null,
   "metadata": {},
   "outputs": [],
   "source": [
    "def uniform_isolation(k, r):\n",
    "    return factorial(k) / factorial(k - r) * gamma(k - r + 1.5) / gamma(k + 1.5)"
   ]
  }
 ],
 "metadata": {
  "kernelspec": {
   "display_name": "Python 3",
   "language": "python",
   "name": "python3"
  },
  "language_info": {
   "name": "python",
   "version": "3.10.4"
  }
 },
 "nbformat": 4,
 "nbformat_minor": 2
}
