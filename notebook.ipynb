{
 "cells": [
  {
   "cell_type": "markdown",
   "metadata": {},
   "source": [
    "# Probability Course Project\n",
    "\n",
    "Modeling the lifetime of nodes in a network using distributions and random reliability.\n",
    "\n",
    "## Import Libraries"
   ]
  },
  {
   "cell_type": "code",
   "execution_count": 33,
   "metadata": {},
   "outputs": [],
   "source": [
    "import matplotlib.pyplot as plt\n",
    "import numpy as np\n",
    "from scipy.special import gamma, factorial, comb\n",
    "from scipy.stats import pareto, expon, levy, lognorm, gamma as gamma_dist, invgauss, weibull_min as weibull\n",
    "from scipy import integrate"
   ]
  },
  {
   "cell_type": "markdown",
   "metadata": {},
   "source": [
    "## Define Some Functions\n",
    "\n",
    "### Node Isolation Functions\n",
    "\n",
    "#### General Function\n",
    "\n",
    "$\\begin{aligned} \\pi_r(X)=\\int_0^{\\infty} P(X>t) f_{\\tilde{X}_{r, k}}(t) \\mathrm{d} t=\\frac{r}{\\mu_F^k}\\left(\\begin{array}{l}k\\\\r\\end{array}\\right) \\times \\int_0^{\\infty}\\left[\\bar{F}^2(t)\\left(\\int_0^t \\bar{F}(u) \\mathrm{d} u\\right)^{r-1}\\left(\\int_t^{\\infty} \\bar{F}(u) \\mathrm{d} u\\right)^{k-r}\\right] \\mathrm{d} t \\end{aligned}$\n",
    "\n"
   ]
  },
  {
   "cell_type": "code",
   "execution_count": 26,
   "metadata": {},
   "outputs": [],
   "source": [
    "def general_isolation(k, r, dist):\n",
    "    return r / np.power(dist.expect(), k) * comb(k, r) * integrate.quad(lambda t: np.power(dist.sf(t), 2) * np.power(integrate.quad(dist.sf, 0, t)[0], r - 1) * np.power(integrate.quad(dist.sf, t, np.inf)[0], k - r), 0, np.inf)[0]\n",
    "    # return integrate.quad(lambda t: np.power(dist.sf(t), 2), 0, np.inf)"
   ]
  },
  {
   "cell_type": "markdown",
   "metadata": {},
   "source": [
    "#### Pareto Distribution\n",
    "\n",
    "$\\begin{aligned}& \\pi_r(X)=\\frac{k !}{(k-r) !} \\cdot \\frac{\\Gamma\\left(k-r+1+\\frac{\\alpha}{\\alpha-1}\\right)}{\\Gamma\\left(k+1+\\frac{\\alpha}{\\alpha-1}\\right)} \\end{aligned}$\n",
    "\n",
    "$\\alpha > 1, \\beta > 0$"
   ]
  },
  {
   "cell_type": "code",
   "execution_count": 9,
   "metadata": {},
   "outputs": [],
   "source": [
    "def pareto_isolation(k, r, alpha):\n",
    "    assert(alpha > 1)\n",
    "    return factorial(k) / factorial(k - r) * gamma(k - r + 1 + (alpha / (alpha - 1))) / gamma(k + 1 + (alpha / (alpha - 1)))"
   ]
  },
  {
   "cell_type": "markdown",
   "metadata": {},
   "source": [
    "#### Exponential Distribution\n",
    "\n",
    "$\\pi_r(X)=\\frac{\\begin{aligned}& k-r+1 \\end{aligned}}{\\begin{aligned}& k+1 \\end{aligned}}$"
   ]
  },
  {
   "cell_type": "code",
   "execution_count": 10,
   "metadata": {},
   "outputs": [],
   "source": [
    "def exponential_isolation(k, r):\n",
    "    return (k - r + 1) / (k + 1)"
   ]
  },
  {
   "cell_type": "markdown",
   "metadata": {},
   "source": [
    "#### Uniform Distribution\n",
    "\n",
    "$\\begin{aligned}& \\pi_r(X)=\\frac{k !}{(k-r) !} \\cdot \\frac{\\Gamma\\left(k-r+1+\\frac{3}{2}\\right)}{\\Gamma\\left(k+\\frac{3}{2}\\right)} \\end{aligned}$"
   ]
  },
  {
   "cell_type": "code",
   "execution_count": 11,
   "metadata": {},
   "outputs": [],
   "source": [
    "def uniform_isolation(k, r):\n",
    "    return factorial(k) / factorial(k - r) * gamma(k - r + 1.5) / gamma(k + 1.5)"
   ]
  },
  {
   "cell_type": "markdown",
   "metadata": {},
   "source": [
    "## Problem 1\n",
    "\n",
    "$\\begin{aligned} \\pi_r(X)=\\int_0^{\\infty} P(X>t) f_{\\tilde{X}_{r, k}}(t) \\mathrm{d} t=\\frac{r}{\\mu_F^k}\\left(\\begin{array}{l}k\\\\r\\end{array}\\right) \\times \\int_0^{\\infty}\\left[\\bar{F}^2(t)\\left(\\int_0^t \\bar{F}(u) \\mathrm{d} u\\right)^{r-1}\\left(\\int_t^{\\infty} \\bar{F}(u) \\mathrm{d} u\\right)^{k-r}\\right] \\mathrm{d} t \\end{aligned}$\n",
    "\n",
    "### Weibull\n",
    "\n",
    "$f(x, c)=c x^{c-1} \\times e^{-x^c}$\n",
    "\n",
    "$\\bar{F}(x)=e^{-x^c}$\n",
    "\n",
    "$E[X]= \\Gamma(1+ \\frac{1}{c})$\n",
    "\n",
    "$\\begin{aligned} \\int \\bar{F}(x) \\mathrm{d} x = -\\dfrac{\\operatorname{\\Gamma}\\left(\\frac{1}{c},x^c\\right)}{c} \\end{aligned}$\n",
    "\n",
    "$\\begin{aligned} \\pi_r(X)=\\frac{r}{[\\Gamma(1+ \\frac{1}{c})]^k}\n",
    "\\left(\\begin{array}{l}k\\\\r\\end{array}\\right) \\times \\int_0^{\\infty}\\left[\n",
    "    e^{-2x^c}\n",
    "\\left(\n",
    "    -\\dfrac{\\operatorname{\\Gamma}\\left(\\frac{1}{c},t^c\\right)}{c}\n",
    "    +\\dfrac{\\operatorname{\\Gamma}\\left(\\frac{1}{c},0^c\\right)}{c} \n",
    "    \\right)\n",
    "^{r-1}\n",
    "\\left(\n",
    "    -\\dfrac{\\operatorname{\\Gamma}\\left(\\frac{1}{c},{\\infty}^c\\right)}{c}\n",
    "    +\\dfrac{\\operatorname{\\Gamma}\\left(\\frac{1}{c},t^c\\right)}{c}\n",
    "    \\right)\n",
    "    ^{k-r}\\right] \\mathrm{d} t \\end{aligned}$"
   ]
  },
  {
   "cell_type": "markdown",
   "metadata": {},
   "source": [
    "### NWUE-ness Comparison Functions\n",
    "\n",
    "#### Mean residue lifetime\n",
    "\n",
    "$\\begin{aligned}& \\mu_F(t)=E[X-t \\mid X>t]=\\frac{\\begin{aligned}& \\int_t^{\\infty} \\bar{F}(x) d x \\end{aligned}}{\\begin{aligned}& \\bar{F}(t) \\end{aligned}} \\end{aligned}$"
   ]
  },
  {
   "cell_type": "code",
   "execution_count": 2,
   "metadata": {},
   "outputs": [],
   "source": [
    "def mean_residue_lifetime(survival_function, t):\n",
    "    return integrate.quad(survival_function, t, np.inf)[0] / survival_function(t)"
   ]
  },
  {
   "cell_type": "markdown",
   "metadata": {},
   "source": [
    "$\\begin{aligned}& \\frac{\\mu_F(F^{-1}(v))}{\\mu_G(G^{-1}(v))} \\geq \\frac{\\mu_F}{\\mu_G} \\end{aligned}$ for all $\\begin{aligned}& v \\in(0,1) \\end{aligned}$\n",
    "\n",
    "$X \\geq_{NWUE} Y$"
   ]
  },
  {
   "cell_type": "code",
   "execution_count": 3,
   "metadata": {},
   "outputs": [],
   "source": [
    "def is_more_nwue(dist_x, dist_y) -> bool:\n",
    "    v = np.linspace(0.01, 0.99, 500)\n",
    "    return all(np.array([mean_residue_lifetime(dist_x.sf, dist_x.ppf(i)) / mean_residue_lifetime(dist_y.sf, dist_y.ppf(i)) for i in v]) >= dist_x.expect() / dist_y.expect())"
   ]
  },
  {
   "cell_type": "markdown",
   "metadata": {},
   "source": [
    "## Problem 2\n",
    "\n",
    "Prove if $X \\geq_{NWUE} Y$ then $\\pi_r(X) < \\pi_r(Y)$"
   ]
  },
  {
   "cell_type": "code",
   "execution_count": 20,
   "metadata": {},
   "outputs": [
    {
     "name": "stdout",
     "output_type": "stream",
     "text": [
      "False\n"
     ]
    }
   ],
   "source": [
    "\n",
    "pareto_shape = 20.0\n",
    "weibull_shape = 20.0\n",
    "pareto_scale = 10\n",
    "weibull_scale = 10.7\n",
    "expon_lambda = 2\n",
    "expon_scale = 10\n",
    "\n",
    "temp = is_more_nwue(expon(scale=(1/expon_lambda), loc=expon_scale), pareto(b=pareto_shape, scale=pareto_scale))\n",
    "print(temp)\n",
    "\n",
    "# def plot_isolation_probabilities(k, r, axes):\n",
    "#     shape = np.arange(1.01, 20.0)\n",
    "#     pareto = np.array([pareto_isolation(k, r, i) for i in shape])\n",
    "#     axes.plot(shape, pareto, color='green', alpha=0.5, label='pareto')\n",
    "\n",
    "\n",
    "# fig, ax = plt.subplots(2, 2, figsize=(12, 8))\n",
    "# ax = ax.flatten()\n",
    "# fig.suptitle('Node Isolation')\n",
    "# for i, j in zip(ax, count_of_neighbors):\n",
    "#     plot_isolation_probabilities(k=j, r=j//2, axes=i)\n",
    "#     i.legend()\n",
    "#     i.grid(True)\n",
    "#     i.set_title(f'k={j}')\n",
    "#     i.set_xlabel('r')\n",
    "#     i.set_ylabel('probability')\n",
    "\n",
    "# print(exponential_isolation(10, 7))\n",
    "# print(pareto_isolation(10, 7, pareto_shape))"
   ]
  },
  {
   "cell_type": "markdown",
   "metadata": {},
   "source": [
    "## Problem 3\n",
    "\n",
    "Prove if $X$, $Y$, $T$ are random variables of Pareto, exponential and uniform distribution then $\\pi_r(X) < \\pi_r(Y) < \\pi_r(T)$"
   ]
  },
  {
   "cell_type": "code",
   "execution_count": 49,
   "metadata": {},
   "outputs": [
    {
     "name": "stderr",
     "output_type": "stream",
     "text": [
      "C:\\Users\\asus\\AppData\\Local\\Temp\\ipykernel_3144\\471074581.py:2: IntegrationWarning: The integral is probably divergent, or slowly convergent.\n",
      "  return r / np.power(dist.expect(), k) * comb(k, r) * integrate.quad(lambda t: np.power(dist.sf(t), 2) * np.power(integrate.quad(dist.sf, 0, t)[0], r - 1) * np.power(integrate.quad(dist.sf, t, np.inf)[0], k - r), 0, np.inf)[0]\n"
     ]
    }
   ],
   "source": [
    "shape = 2.0\n",
    "color_alpha = 0.6\n",
    "count_of_neighbors = (5, 10, 50, 100)\n",
    "\n",
    "def plot_isolation_probabilities(k, axes):\n",
    "    r = np.arange(1, k)\n",
    "    axes.plot(r, np.array([pareto_isolation(k, i, shape) for i in r]), alpha=color_alpha, label='pareto')\n",
    "    axes.plot(r, np.array([exponential_isolation(k, i) for i in r]), alpha=color_alpha, label='exponential')\n",
    "    axes.plot(r, np.array([uniform_isolation(k, i) for i in r]), alpha=color_alpha, label='uniform')\n",
    "    axes.plot(r, np.array([general_isolation(k, i, weibull(shape)) for i in r]), alpha=color_alpha, label='weibull')\n",
    "    # axes.plot(r, np.array([general_isolation(k, i, levy()) for i in r]), alpha=color_alpha, label='levy')\n",
    "    axes.plot(r, np.array([general_isolation(k, i, lognorm(shape)) for i in r]), alpha=color_alpha, label='lognorm')\n",
    "    axes.plot(r, np.array([general_isolation(k, i, gamma_dist(shape)) for i in r]), alpha=color_alpha, label='gamma')\n",
    "    axes.plot(r, np.array([general_isolation(k, i, invgauss(shape)) for i in r]), alpha=color_alpha, label='invgauss')\n",
    "\n",
    "\n",
    "fig, ax = plt.subplots(2, 2, figsize=(13, 9))\n",
    "ax = ax.flatten()\n",
    "fig.suptitle('Node Isolation')\n",
    "for i, j in zip(ax, count_of_neighbors):\n",
    "    plot_isolation_probabilities(k=j, axes=i)\n",
    "    i.legend()\n",
    "    i.grid(True)\n",
    "    i.set_title(f'k={j}')\n",
    "    i.set_xlabel('r')\n",
    "    i.set_ylabel('probability')\n",
    "    i.set_ylim(0, 1)"
   ]
  },
  {
   "cell_type": "markdown",
   "metadata": {},
   "source": [
    "## Find NWUE-ness with Hypothesis Testing\n",
    "\n",
    "$\\begin{aligned} \\beta(X)=\\int_0^{\\infty} \\bar{F}^2(t) d t \\end{aligned}$\n",
    "\n",
    "$\\begin{aligned} \\beta(Y)=\\int_0^{\\infty} \\bar{G}^2(t) d t \\end{aligned}$"
   ]
  },
  {
   "cell_type": "code",
   "execution_count": 3,
   "metadata": {},
   "outputs": [],
   "source": [
    "def beta(dist):\n",
    "    return integrate.quad(lambda x: np.power(dist.sf(x), 2), 0, np.inf)[0]"
   ]
  },
  {
   "cell_type": "markdown",
   "metadata": {},
   "source": [
    "$\\Delta(X, Y)=\\beta(X) / \\mu_F-\\beta(Y) / \\mu_G$"
   ]
  },
  {
   "cell_type": "code",
   "execution_count": 4,
   "metadata": {},
   "outputs": [],
   "source": [
    "def delta(dist_x, dist_y):\n",
    "    return beta(dist_x) / dist_x.expect() - beta(dist_y) / dist_y.expect()"
   ]
  },
  {
   "cell_type": "markdown",
   "metadata": {},
   "source": [
    "$\\begin{aligned} S^2\\left(X_n, Y_m\\right)=\\frac{m}{n+m} \\cdot \\frac{S^2\\left(X_n\\right)}{\\bar{X}^2}+\\frac{n}{n+m} \\cdot \\frac{S^2\\left(Y_m\\right)}{\\bar{Y}^2} \\end{aligned}$"
   ]
  },
  {
   "cell_type": "code",
   "execution_count": 5,
   "metadata": {},
   "outputs": [],
   "source": [
    "def s_2(dist_x, dist_y, n, m):\n",
    "    return m / (n + m) * dist_x.var() / np.power(dist_x.expect(), 2) + n / (n + m) * dist_y.var() / np.power(dist_y.expect(), 2)"
   ]
  },
  {
   "cell_type": "markdown",
   "metadata": {},
   "source": [
    "$\\begin{aligned} T\\left(X_n, Y_m\\right)=\\sqrt{\\frac{n m}{n+m}} \\cdot \\frac{\\Delta\\left(X_n, Y_m\\right)}{\\sqrt{S^2\\left(X_n, Y_m\\right)}} \\end{aligned}$"
   ]
  },
  {
   "cell_type": "code",
   "execution_count": 6,
   "metadata": {},
   "outputs": [],
   "source": [
    "def T(dist_x, dist_y, n, m):\n",
    "    return np.sqrt(n * m / (n + m)) * delta(dist_x, dist_y) / np.sqrt(s_2(dist_x, dist_y, n, m))"
   ]
  },
  {
   "cell_type": "markdown",
   "metadata": {},
   "source": [
    "## Problem 5"
   ]
  },
  {
   "cell_type": "markdown",
   "metadata": {},
   "source": [
    "Define parameters:"
   ]
  },
  {
   "cell_type": "code",
   "execution_count": 7,
   "metadata": {},
   "outputs": [],
   "source": [
    "pareto_shape = 20.0\n",
    "weibull_shape = 20.0\n",
    "pareto_scale = 10\n",
    "weibull_scale = 10.7\n",
    "expon_lambda = 2\n",
    "expon_scale = 10\n",
    "\n",
    "pareto_dist = pareto(b=pareto_shape, scale=pareto_scale)\n",
    "weibull_dist = weibull(c=weibull_shape, scale=weibull_scale)\n",
    "expon_dist = expon(scale=(1/expon_lambda), loc=expon_scale)"
   ]
  },
  {
   "cell_type": "markdown",
   "metadata": {},
   "source": [
    "Mean, median and NWUE value:"
   ]
  },
  {
   "cell_type": "code",
   "execution_count": 14,
   "metadata": {},
   "outputs": [
    {
     "name": "stdout",
     "output_type": "stream",
     "text": [
      "Pareto Mean: 10.526315789473706, Pareto Median: 10.352649238413775\n",
      "Weibull Mean: 10.416495641521697, Weibull Median: 10.505701349205927\n",
      "Exponential Mean: 10.499999999999982, Exponential Median: 10.346573590279972\n",
      "NWUE Pareto-Weibull: 0.5776177954266039\n",
      "NWUE Pareto-Exponential: 0.14372282243713624\n",
      "NWUE Weibull-Exponential: 0.733152015329698\n"
     ]
    }
   ],
   "source": [
    "print(f'Pareto Mean: {pareto_dist.expect()}, Pareto Median: {pareto_dist.median()}')\n",
    "print(f'Weibull Mean: {weibull_dist.expect()}, Weibull Median: {weibull_dist.median()}')\n",
    "print(f'Exponential Mean: {expon_dist.expect()}, Exponential Median: {expon_dist.median()}')\n",
    "\n",
    "print(f'NWUE Pareto-Weibull: {T(pareto_dist, weibull_dist, 30, 32)}')\n",
    "print(f'NWUE Pareto-Exponential: {T(expon_dist, pareto_dist, 30, 32)}')\n",
    "print(f'NWUE Weibull-Exponential: {T(expon_dist, weibull_dist, 30, 32)}')"
   ]
  },
  {
   "cell_type": "markdown",
   "metadata": {},
   "source": [
    "What happen for NWUE value if the scale parameter is changed?"
   ]
  },
  {
   "cell_type": "code",
   "execution_count": 18,
   "metadata": {},
   "outputs": [
    {
     "data": {
      "text/plain": [
       "(0.0, 1.0)"
      ]
     },
     "execution_count": 18,
     "metadata": {},
     "output_type": "execute_result"
    },
    {
     "data": {
      "image/png": "[encoded data removed]",
      "text/plain": [
       "<Figure size 640x480 with 1 Axes>"
      ]
     },
     "metadata": {},
     "output_type": "display_data"
    },
    {
     "ename": "",
     "evalue": "",
     "output_type": "error",
     "traceback": [
      "\u001b[1;31mThe Kernel crashed while executing code in the the current cell or a previous cell. Please review the code in the cell(s) to identify a possible cause of the failure. Click <a href='https://aka.ms/vscodeJupyterKernelCrash'>here</a> for more info. View Jupyter <a href='command:jupyter.viewOutput'>log</a> for further details."
     ]
    }
   ],
   "source": [
    "pareto_scale = np.arange(1, 30)\n",
    "nwue_value_expon_pareto = np.array([T(expon_dist, pareto(b=pareto_shape, scale=i), 30, 32) for i in pareto_scale])\n",
    "nwue_value_weibull_pareto = np.array([T(pareto(b=pareto_shape, scale=i), weibull_dist, 30, 32) for i in pareto_scale])\n",
    "\n",
    "fig, ax = plt.subplots(1, 1)\n",
    "fig.suptitle('Compare NWUE value for different scales')\n",
    "ax.plot(pareto_scale, nwue_value_expon_pareto, label='NWUE value: Expon-Pareto')\n",
    "ax.plot(pareto_scale, nwue_value_weibull_pareto, label='NWUE value: Weibull-Pareto')\n",
    "ax.legend()\n",
    "ax.grid(True)\n",
    "ax.set_xlabel('pareto scale')\n",
    "ax.set_ylabel('NWUE value')\n",
    "ax.set_ylim(0, 1)"
   ]
  },
  {
   "cell_type": "markdown",
   "metadata": {},
   "source": [
    "$\\left\\{\\begin{array}{l}H_0: X \\sim Y \\\\ H_A: X \\nsim Y\\end{array}\\right.$\n",
    "\n",
    "$2 \\times \\min \\{\\mathbb{P}\\{T \\geqslant 0.5\\}\\}$"
   ]
  }
 ],
 "metadata": {
  "kernelspec": {
   "display_name": "Python 3",
   "language": "python",
   "name": "python3"
  },
  "language_info": {
   "codemirror_mode": {
    "name": "ipython",
    "version": 3
   },
   "file_extension": ".py",
   "mimetype": "text/x-python",
   "name": "python",
   "nbconvert_exporter": "python",
   "pygments_lexer": "ipython3",
   "version": "3.10.4"
  }
 },
 "nbformat": 4,
 "nbformat_minor": 2
}
